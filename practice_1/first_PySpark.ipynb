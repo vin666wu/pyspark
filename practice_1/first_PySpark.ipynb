{
 "cells": [
  {
   "cell_type": "code",
   "execution_count": 41,
   "id": "4ce40e4d-9251-4bd0-97fa-c88df6c4b023",
   "metadata": {},
   "outputs": [],
   "source": [
    "from pyspark.sql import SparkSession\n",
    "spark = SparkSession.builder.getOrCreate()"
   ]
  },
  {
   "cell_type": "code",
   "execution_count": 42,
   "id": "270fdf6b-a565-4601-9f49-67704d517b70",
   "metadata": {},
   "outputs": [],
   "source": [
    "df = spark.read\\\n",
    "    .option('header', True)\\\n",
    "    .option('escape', '\"')\\\n",
    "    .option('inferSchema', True)\\\n",
    "    .csv('/home/vin/ArticlesApril2017.csv')"
   ]
  },
  {
   "cell_type": "code",
   "execution_count": 49,
   "id": "10dc68aa-e13c-44fc-9fb6-627855ca2695",
   "metadata": {},
   "outputs": [
    {
     "name": "stdout",
     "output_type": "stream",
     "text": [
      "root\n",
      " |-- abstract: string (nullable = true)\n",
      " |-- articleID: string (nullable = true)\n",
      " |-- articleWordCount: string (nullable = true)\n",
      " |-- byline: string (nullable = true)\n",
      " |-- documentType: string (nullable = true)\n",
      " |-- headline: string (nullable = true)\n",
      " |-- keywords: string (nullable = true)\n",
      " |-- multimedia: string (nullable = true)\n",
      " |-- newDesk: string (nullable = true)\n",
      " |-- printPage: string (nullable = true)\n",
      " |-- pubDate: string (nullable = true)\n",
      " |-- sectionName: string (nullable = true)\n",
      " |-- snippet: string (nullable = true)\n",
      " |-- source: string (nullable = true)\n",
      " |-- typeOfMaterial: string (nullable = true)\n",
      " |-- webURL: string (nullable = true)\n",
      " |-- _c16: string (nullable = true)\n",
      " |-- _c17: string (nullable = true)\n",
      " |-- _c18: string (nullable = true)\n",
      " |-- _c19: string (nullable = true)\n",
      " |-- _c20: string (nullable = true)\n",
      " |-- _c21: string (nullable = true)\n",
      "\n"
     ]
    }
   ],
   "source": [
    "df.printSchema()"
   ]
  },
  {
   "cell_type": "code",
   "execution_count": 44,
   "id": "d51c2c8e-ceac-4a88-b8ec-c55372dfacc1",
   "metadata": {},
   "outputs": [
    {
     "data": {
      "text/plain": [
       "[Row(articleID='58def1347c459f24986d7c80', snippet='One of the largest photo displays in Times history, of people who have fled Boko Haram, required an effort just as immense.'),\n",
       " Row(articleID='58def3237c459f24986d7c84', snippet='Meet the gang from under the bus.'),\n",
       " Row(articleID='58def9f57c459f24986d7c90', snippet='A court ruling annulling the legislature’s authority represents a dangerous turning point for Venezuela.'),\n",
       " Row(articleID='58defd317c459f24986d7c95', snippet='For two decades, until 2013, North Carolina engaged in academic improprieties that benefited its student-athletes. The repercussions are still being felt.'),\n",
       " Row(articleID='58df09b77c459f24986d7ca7', snippet='In which Howard Barkin and Will Shortz teach us a lesson.'),\n",
       " Row(articleID='58df09b77c459f24986d7ca8', snippet='In this visually ravishing production, Bobby Cannavale steps into a part that has been waiting for him for decades.'),\n",
       " Row(articleID='58df6c317c459f24986d7d0a', snippet='For the author, this gleaming, complex city in British Columbia is “a rolling, improvisatory work in progress.”'),\n",
       " Row(articleID='58dfadc07c459f24986d7d48', snippet='About $13 million has been paid out over the years to address complaints from women about Mr. O’Reilly’s behavior. He denies the claims have merit.'),\n",
       " Row(articleID='58dfb2737c459f24986d7d50', snippet='Getting rid of mice isn’t easy, but it’s a co-op board’s responsibility if a building becomes infested.'),\n",
       " Row(articleID='58dfca3e7c459f24986d7d71', snippet='A proposed “border adjustment” tax is meeting furious opposition, threatening to jeopardize yet another signature legislative initiative.')]"
      ]
     },
     "execution_count": 44,
     "metadata": {},
     "output_type": "execute_result"
    }
   ],
   "source": [
    "df.select(['articleID', 'snippet']).limit(10).collect()"
   ]
  },
  {
   "cell_type": "code",
   "execution_count": null,
   "id": "3fc43adc-c44f-4b0d-9ee1-ed9f7a6db000",
   "metadata": {},
   "outputs": [],
   "source": []
  },
  {
   "cell_type": "code",
   "execution_count": 45,
   "id": "6c60d948-c2eb-4e19-9149-0f9119f9693d",
   "metadata": {},
   "outputs": [],
   "source": [
    "df.createOrReplaceTempView('ArticlesApril2017')"
   ]
  },
  {
   "cell_type": "code",
   "execution_count": 72,
   "id": "f5611d6b-1203-4a26-ac89-e344fbcae1d0",
   "metadata": {},
   "outputs": [],
   "source": [
    "r = spark.sql('''\n",
    "    SELECT articleID, snippet\n",
    "    FROM ArticlesApril2017\n",
    "    WHERE snippet LIKE \"%American%Trump%\"\n",
    "    limit 10\n",
    "''')"
   ]
  },
  {
   "cell_type": "code",
   "execution_count": 73,
   "id": "fd090da9-a0ec-4eeb-8cb7-b22eaedd23ba",
   "metadata": {},
   "outputs": [
    {
     "data": {
      "text/plain": [
       "[Row(articleID='58e447087c459f24986d867e', snippet='Where other American presidents might have used the gas attack in Syria to call for the departure of Bashar al-Assad, Mr. Trump’s spokesman dismissed the notion as impractical.')]"
      ]
     },
     "execution_count": 73,
     "metadata": {},
     "output_type": "execute_result"
    }
   ],
   "source": [
    "r.collect()"
   ]
  },
  {
   "cell_type": "code",
   "execution_count": 74,
   "id": "952c99b5-537a-4c6d-8e52-80d6a480d00c",
   "metadata": {},
   "outputs": [
    {
     "name": "stdout",
     "output_type": "stream",
     "text": [
      "+--------------------+--------------------+\n",
      "|           articleID|             snippet|\n",
      "+--------------------+--------------------+\n",
      "|58e447087c459f249...|Where other Ameri...|\n",
      "+--------------------+--------------------+\n",
      "\n"
     ]
    }
   ],
   "source": [
    "r.show()"
   ]
  },
  {
   "cell_type": "code",
   "execution_count": 75,
   "id": "67e8840b-34fa-43b2-98ad-78df0c7ee37b",
   "metadata": {},
   "outputs": [
    {
     "name": "stdout",
     "output_type": "stream",
     "text": [
      "-RECORD 0-------------------------------------------------------------------------------------------------------------------------------------------------------------------------------------\n",
      " articleID | 58e447087c459f24986d867e                                                                                                                                                         \n",
      " snippet   | Where other American presidents might have used the gas attack in Syria to call for the departure of Bashar al-Assad, Mr. Trump’s spokesman dismissed the notion as impractical. \n",
      "\n"
     ]
    }
   ],
   "source": [
    "r.show(truncate=False, vertical=True)"
   ]
  },
  {
   "cell_type": "code",
   "execution_count": 76,
   "id": "bee7a432-8c9b-4e04-a4ba-67c17b839224",
   "metadata": {},
   "outputs": [],
   "source": [
    "pandas_df = r.toPandas()"
   ]
  },
  {
   "cell_type": "code",
   "execution_count": 77,
   "id": "ac6a1b0d-ea37-4ca7-a4dc-588702a14a4a",
   "metadata": {},
   "outputs": [
    {
     "data": {
      "text/html": [
       "<div>\n",
       "<style scoped>\n",
       "    .dataframe tbody tr th:only-of-type {\n",
       "        vertical-align: middle;\n",
       "    }\n",
       "\n",
       "    .dataframe tbody tr th {\n",
       "        vertical-align: top;\n",
       "    }\n",
       "\n",
       "    .dataframe thead th {\n",
       "        text-align: right;\n",
       "    }\n",
       "</style>\n",
       "<table border=\"1\" class=\"dataframe\">\n",
       "  <thead>\n",
       "    <tr style=\"text-align: right;\">\n",
       "      <th></th>\n",
       "      <th>articleID</th>\n",
       "      <th>snippet</th>\n",
       "    </tr>\n",
       "  </thead>\n",
       "  <tbody>\n",
       "    <tr>\n",
       "      <th>0</th>\n",
       "      <td>58e447087c459f24986d867e</td>\n",
       "      <td>Where other American presidents might have use...</td>\n",
       "    </tr>\n",
       "  </tbody>\n",
       "</table>\n",
       "</div>"
      ],
      "text/plain": [
       "                  articleID                                            snippet\n",
       "0  58e447087c459f24986d867e  Where other American presidents might have use..."
      ]
     },
     "execution_count": 77,
     "metadata": {},
     "output_type": "execute_result"
    }
   ],
   "source": [
    "pandas_df"
   ]
  }
 ],
 "metadata": {
  "kernelspec": {
   "display_name": "Python 3 (ipykernel)",
   "language": "python",
   "name": "python3"
  },
  "language_info": {
   "codemirror_mode": {
    "name": "ipython",
    "version": 3
   },
   "file_extension": ".py",
   "mimetype": "text/x-python",
   "name": "python",
   "nbconvert_exporter": "python",
   "pygments_lexer": "ipython3",
   "version": "3.11.6"
  }
 },
 "nbformat": 4,
 "nbformat_minor": 5
}
