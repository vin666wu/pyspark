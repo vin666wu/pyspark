{
 "cells": [
  {
   "cell_type": "code",
   "execution_count": 3,
   "id": "6603d04b-3a3c-4396-b22e-f68a6e09a040",
   "metadata": {},
   "outputs": [],
   "source": [
    "from pyspark.sql import SparkSession\n",
    "from pyspark.sql.functions import col"
   ]
  },
  {
   "cell_type": "code",
   "execution_count": 4,
   "id": "79801a45-b681-48b5-a3f8-cdb651fdd242",
   "metadata": {},
   "outputs": [],
   "source": [
    "spark = SparkSession.builder \\\n",
    "    .appName(\"PySpark LIKE Example\") \\\n",
    "    .getOrCreate()"
   ]
  },
  {
   "cell_type": "code",
   "execution_count": 6,
   "id": "f565c7e0-0898-40ce-a2c4-e778361fe328",
   "metadata": {},
   "outputs": [],
   "source": [
    "data = [(\"apple pie\",),\n",
    "        (\"banana bread\",),\n",
    "        (\"cherry tart\",),\n",
    "        (\"blueberry muffin\",)]"
   ]
  },
  {
   "cell_type": "code",
   "execution_count": 7,
   "id": "4e8e3b42-57d2-4c8c-bee0-9fae7fef3bed",
   "metadata": {},
   "outputs": [],
   "source": [
    "df = spark.createDataFrame(data, [\"food\"])"
   ]
  },
  {
   "cell_type": "markdown",
   "id": "927fd8b0-5ae2-431e-80df-6f8545098a12",
   "metadata": {},
   "source": [
    "# Search for rows containing \"apple\" or \"banana\""
   ]
  },
  {
   "cell_type": "code",
   "execution_count": 9,
   "id": "2438fa56-8d8c-4ba1-bc3a-44d6320cb7f7",
   "metadata": {},
   "outputs": [],
   "source": [
    "result = df.filter(col(\"food\").rlike(\"apple|banana\"))"
   ]
  },
  {
   "cell_type": "code",
   "execution_count": 10,
   "id": "b6af4101-46b0-4e53-bb6d-b35de621d0f2",
   "metadata": {},
   "outputs": [
    {
     "name": "stdout",
     "output_type": "stream",
     "text": [
      "+------------+\n",
      "|        food|\n",
      "+------------+\n",
      "|   apple pie|\n",
      "|banana bread|\n",
      "+------------+\n",
      "\n"
     ]
    }
   ],
   "source": [
    "result.show()"
   ]
  },
  {
   "cell_type": "code",
   "execution_count": null,
   "id": "9d930f39-51ae-443f-9cba-88dc2caad57b",
   "metadata": {},
   "outputs": [],
   "source": []
  }
 ],
 "metadata": {
  "kernelspec": {
   "display_name": "Python 3 (ipykernel)",
   "language": "python",
   "name": "python3"
  },
  "language_info": {
   "codemirror_mode": {
    "name": "ipython",
    "version": 3
   },
   "file_extension": ".py",
   "mimetype": "text/x-python",
   "name": "python",
   "nbconvert_exporter": "python",
   "pygments_lexer": "ipython3",
   "version": "3.11.6"
  }
 },
 "nbformat": 4,
 "nbformat_minor": 5
}
