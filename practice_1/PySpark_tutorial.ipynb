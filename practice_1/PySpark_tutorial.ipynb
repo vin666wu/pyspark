{
 "cells": [
  {
   "cell_type": "code",
   "execution_count": 7,
   "id": "99090663-c0c2-467b-83f6-93bf6941aa74",
   "metadata": {},
   "outputs": [],
   "source": [
    "from pyspark.sql import SparkSession\n",
    "import pandas as pd\n",
    "spark = SparkSession.builder.appName('Pratice').getOrCreate()"
   ]
  },
  {
   "cell_type": "code",
   "execution_count": 8,
   "id": "5bae246e-148f-40f0-ad29-74426d4d4be0",
   "metadata": {
    "scrolled": true
   },
   "outputs": [
    {
     "data": {
      "text/html": [
       "\n",
       "            <div>\n",
       "                <p><b>SparkSession - in-memory</b></p>\n",
       "                \n",
       "        <div>\n",
       "            <p><b>SparkContext</b></p>\n",
       "\n",
       "            <p><a href=\"http://b4543eb18d4e:4041\">Spark UI</a></p>\n",
       "\n",
       "            <dl>\n",
       "              <dt>Version</dt>\n",
       "                <dd><code>v3.5.0</code></dd>\n",
       "              <dt>Master</dt>\n",
       "                <dd><code>local[*]</code></dd>\n",
       "              <dt>AppName</dt>\n",
       "                <dd><code>Pratice</code></dd>\n",
       "            </dl>\n",
       "        </div>\n",
       "        \n",
       "            </div>\n",
       "        "
      ],
      "text/plain": [
       "<pyspark.sql.session.SparkSession at 0x7f81a80b7890>"
      ]
     },
     "execution_count": 8,
     "metadata": {},
     "output_type": "execute_result"
    }
   ],
   "source": [
    "spark"
   ]
  },
  {
   "cell_type": "code",
   "execution_count": 16,
   "id": "03acaec1-6a61-4e7e-96e8-414e7302751d",
   "metadata": {},
   "outputs": [],
   "source": [
    "df_pandas = pd.read_csv('ArticlesApril2017.csv')"
   ]
  },
  {
   "cell_type": "code",
   "execution_count": 17,
   "id": "9a12a064-e0c2-43b6-8e53-01801a54164a",
   "metadata": {},
   "outputs": [],
   "source": [
    "df_pyspark = spark.read.csv('ArticlesApril2017.csv')"
   ]
  },
  {
   "cell_type": "code",
   "execution_count": 18,
   "id": "adeb7979-4988-49ed-ab31-39cf346fc21a",
   "metadata": {
    "scrolled": true
   },
   "outputs": [
    {
     "name": "stdout",
     "output_type": "stream",
     "text": [
      "+--------+--------------------+----------------+--------------------+------------+--------------------+--------------------+----------+-------------------+--------------------+-------------------+--------------------+--------------------+------------------+--------------+--------------------+-----+--------------------+------------------+--------------------+--------------------+------+\n",
      "|     _c0|                 _c1|             _c2|                 _c3|         _c4|                 _c5|                 _c6|       _c7|                _c8|                 _c9|               _c10|                _c11|                _c12|              _c13|          _c14|                _c15| _c16|                _c17|              _c18|                _c19|                _c20|  _c21|\n",
      "+--------+--------------------+----------------+--------------------+------------+--------------------+--------------------+----------+-------------------+--------------------+-------------------+--------------------+--------------------+------------------+--------------+--------------------+-----+--------------------+------------------+--------------------+--------------------+------+\n",
      "|abstract|           articleID|articleWordCount|              byline|documentType|            headline|            keywords|multimedia|            newDesk|           printPage|            pubDate|         sectionName|             snippet|            source|typeOfMaterial|              webURL| NULL|                NULL|              NULL|                NULL|                NULL|  NULL|\n",
      "|    NULL|58def1347c459f249...|             716|By STEPHEN HILTNE...|     article|Finding an Expans...|['Photography', '...|         3|            Insider|                   2|2017-04-01 00:15:41|             Unknown|One of the larges...|The New York Times|          News|https://www.nytim...| NULL|                NULL|              NULL|                NULL|                NULL|  NULL|\n",
      "|    NULL|58def3237c459f249...|             823|     By GAIL COLLINS|     article|And Now,  the Dre...|['United States P...|         3|               OpEd|                  23|2017-04-01 00:23:58|             Unknown|Meet the gang fro...|The New York Times|         Op-Ed|https://www.nytim...| NULL|                NULL|              NULL|                NULL|                NULL|  NULL|\n",
      "|    NULL|58def9f57c459f249...|             575|By THE EDITORIAL ...|     article|Venezuela’s Desce...|['Venezuela', 'Po...|         3|          Editorial|                  22|2017-04-01 00:53:06|             Unknown|A court ruling an...|The New York Times|     Editorial|https://www.nytim...| NULL|                NULL|              NULL|                NULL|                NULL|  NULL|\n",
      "|    NULL|58defd317c459f249...|            1374|   By MICHAEL POWELL|     article|Stain Permeates B...|['Basketball (Col...|         3|             Sports|                   1|2017-04-01 01:06:52|  College Basketball|For two decades, ...|The New York Times|          News|https://www.nytim...| NULL|                NULL|              NULL|                NULL|                NULL|  NULL|\n",
      "|    NULL|58df09b77c459f249...|             708|        By DEB AMLEN|     article|Taking Things for...|['Crossword Puzzl...|         3|              Games|                   0|2017-04-01 02:00:14|             Unknown|In which Howard B...|The New York Times|          News|https://www.nytim...| NULL|                NULL|              NULL|                NULL|                NULL|  NULL|\n",
      "|    NULL|58df09b77c459f249...|            1065|     By BEN BRANTLEY|     article|The Caged Beast A...|\"['Theater', 'Par...|  Eugene\"\"|         'Cannavale|              Bobby'|             'Jones|   Richard (1953- )'|              'Laing|        Stewart']\"|             3|             Culture|    1| 2017-04-01 02:00:17|           Unknown|In this visually ...|  The New York Times|Review|\n",
      "|    NULL|58df6c317c459f249...|            2094|   By TIMOTHY TAYLOR|     article|An Ever-Unfolding...|['Travel and Vaca...|         3|             Travel|                   1|2017-04-01 09:00:27|             Unknown|For the author, t...|The New York Times|          News|https://www.nytim...| NULL|                NULL|              NULL|                NULL|                NULL|  NULL|\n",
      "|    NULL|58dfadc07c459f249...|            3172|By EMILY STEEL an...|     article|O’Reilly Thrives ...|        \"[\"\"O'Reilly|    Bill\"\"| 'Fox News Channel'| 'Sexual Harassment'| '21st Century Fox'| 'News and News M...|                   3|          Business|             1| 2017-04-01 13:40:11|Media|About $13 million...|The New York Times|                News|https://www.nytim...|  NULL|\n",
      "|    NULL|58dfb2737c459f249...|             391|     By RONDA KAYSEN|     article|   Mouse Infestation|['Mice', 'Real Es...|         3|         RealEstate|                   2|2017-04-01 14:00:03|             Unknown|Getting rid of mi...|The New York Times|          News|https://www.nytim...| NULL|                NULL|              NULL|                NULL|                NULL|  NULL|\n",
      "|    NULL|58dfca3e7c459f249...|            1488|By NICHOLAS CONFE...|     article|Divide in G.O.P. ...|['Taxation', 'Tru...|         3|           National|                   1|2017-04-01 15:41:43|            Politics|A proposed “borde...|The New York Times|          News|https://www.nytim...| NULL|                NULL|              NULL|                NULL|                NULL|  NULL|\n",
      "|    NULL|58dfce877c459f249...|             398|        By DEB AMLEN|     article|Variety Puzzle: A...|['Crossword Puzzl...|         0|              Games|                   0|2017-04-01 16:00:02|             Unknown|Emily Cox and Hen...|The New York Times|          News|https://www.nytim...| NULL|                NULL|              NULL|                NULL|                NULL|  NULL|\n",
      "|    NULL|58dfe4107c459f249...|            1303|  By BILL PENNINGTON|     article|They Can Hit a Ba...|['Baseball', 'Bas...|         3|             Sports|                   1|2017-04-01 17:31:51|            Baseball|In modern youth b...|The New York Times|          News|https://www.nytim...| NULL|                NULL|              NULL|                NULL|                NULL|  NULL|\n",
      "|    NULL|58dff0827c459f249...|             879| By NICHOLAS KRISTOF|     article|In Trump Country,...|['Trump, Donald J...|         3|               OpEd|                   9|2017-04-01 18:24:59|       Sunday Review|People who have d...|The New York Times|         Op-Ed|https://www.nytim...| NULL|                NULL|              NULL|                NULL|                NULL|  NULL|\n",
      "|    NULL|58dff1b17c459f249...|            1513|By MICHELLE GOLDBERG|     article|Why Is This Hate ...|['Jews and Judais...|         2|               OpEd|                   3|2017-04-01 18:30:04|       Sunday Review|We’re on high ale...|The New York Times|         Op-Ed|https://www.nytim...| NULL|                NULL|              NULL|                NULL|                NULL|  NULL|\n",
      "|    NULL|58dff1af7c459f249...|            1253|By THE EDITORIAL ...|     article|Pick Your Favorit...|['Conflicts of In...|         3|          Editorial|                   8|2017-04-01 18:30:04|       Sunday Review|Many Trump offici...|The New York Times|     Editorial|https://www.nytim...| NULL|                NULL|              NULL|                NULL|                NULL|  NULL|\n",
      "|    NULL|58dff1bc7c459f249...|            1079|  By REBECCA CARROLL|     article|My Son’s Growing ...|['Blacks', 'Race ...|         3|               OpEd|                   6|2017-04-01 18:30:16|       Sunday Review|“You’re so lucky,...|The New York Times|         Op-Ed|https://www.nytim...| NULL|                NULL|              NULL|                NULL|                NULL|  NULL|\n",
      "|    NULL|58dff1c07c459f249...|            1068|        By DAN LYONS|     article|Jerks and the Sta...|['Venture Capital...|         3|               OpEd|                   7|2017-04-01 18:30:19|       Sunday Review|Bro C.E.O.s like ...|The New York Times|         Op-Ed|https://www.nytim...| NULL|                NULL|              NULL|                NULL|                NULL|  NULL|\n",
      "|    NULL|58dff1c57c459f249...|             844|     By ROSS DOUTHAT|     article|Trump  Needs  a B...|['United States P...|         3|               OpEd|                   9|2017-04-01 18:30:21|       Sunday Review|Or a brain trust,...|The New York Times|         Op-Ed|https://www.nytim...| NULL|                NULL|              NULL|                NULL|                NULL|  NULL|\n",
      "|    NULL|58dff1c07c459f249...|            1241|      By FRANK BRUNI|     article|Manhood in the Ag...|['Gender', 'Men a...|         3|               OpEd|                   3|2017-04-01 18:30:21|       Sunday Review|Raging lust. Boil...|The New York Times|         Op-Ed|https://www.nytim...| NULL|                NULL|              NULL|                NULL|                NULL|  NULL|\n",
      "+--------+--------------------+----------------+--------------------+------------+--------------------+--------------------+----------+-------------------+--------------------+-------------------+--------------------+--------------------+------------------+--------------+--------------------+-----+--------------------+------------------+--------------------+--------------------+------+\n",
      "only showing top 20 rows\n",
      "\n"
     ]
    }
   ],
   "source": [
    "df_pyspark.show()"
   ]
  },
  {
   "cell_type": "code",
   "execution_count": 13,
   "id": "6d49a51c-2a25-45ab-a45d-de7905787bc9",
   "metadata": {},
   "outputs": [
    {
     "data": {
      "text/plain": [
       "DataFrame[abstract: string, articleID: string, articleWordCount: string, byline: string, documentType: string, headline: string, keywords: string, multimedia: string, newDesk: string, printPage: string, pubDate: string, sectionName: string, snippet: string, source: string, typeOfMaterial: string, webURL: string, _c16: string, _c17: string, _c18: string, _c19: string, _c20: string, _c21: string]"
      ]
     },
     "execution_count": 13,
     "metadata": {},
     "output_type": "execute_result"
    }
   ],
   "source": [
    "spark.read.option('header', 'true').csv('ArticlesApril2017.csv')"
   ]
  },
  {
   "cell_type": "code",
   "execution_count": 14,
   "id": "f5976ae1-f9a9-4d9d-980c-4b746689aa28",
   "metadata": {},
   "outputs": [
    {
     "data": {
      "text/plain": [
       "pyspark.sql.dataframe.DataFrame"
      ]
     },
     "execution_count": 14,
     "metadata": {},
     "output_type": "execute_result"
    }
   ],
   "source": [
    "type(df_pyspark)"
   ]
  },
  {
   "cell_type": "code",
   "execution_count": null,
   "id": "88557e92-e256-4ddb-af5c-db89b2e866a3",
   "metadata": {},
   "outputs": [],
   "source": []
  }
 ],
 "metadata": {
  "kernelspec": {
   "display_name": "Python 3 (ipykernel)",
   "language": "python",
   "name": "python3"
  },
  "language_info": {
   "codemirror_mode": {
    "name": "ipython",
    "version": 3
   },
   "file_extension": ".py",
   "mimetype": "text/x-python",
   "name": "python",
   "nbconvert_exporter": "python",
   "pygments_lexer": "ipython3",
   "version": "3.11.6"
  }
 },
 "nbformat": 4,
 "nbformat_minor": 5
}
